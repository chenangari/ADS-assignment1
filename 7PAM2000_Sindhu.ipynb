{
 "cells": [
  {
   "cell_type": "markdown",
   "id": "a1e8ab33",
   "metadata": {},
   "source": [
    "**Name:sindhuja reddy chenangari**\n",
    "\n",
    "**Student ID:21031616**"
   ]
  },
  {
   "cell_type": "code",
   "execution_count": 1,
   "id": "550bbd70",
   "metadata": {},
   "outputs": [],
   "source": [
    "import warnings\n",
    "warnings.filterwarnings(\"ignore\")\n",
    "import pandas as pd\n",
    "import numpy as np\n",
    "import matplotlib.pyplot as plt\n",
    "import seaborn as sns"
   ]
  },
  {
   "cell_type": "code",
   "execution_count": 2,
   "id": "090c595c",
   "metadata": {},
   "outputs": [
    {
     "data": {
      "text/html": [
       "<div>\n",
       "<style scoped>\n",
       "    .dataframe tbody tr th:only-of-type {\n",
       "        vertical-align: middle;\n",
       "    }\n",
       "\n",
       "    .dataframe tbody tr th {\n",
       "        vertical-align: top;\n",
       "    }\n",
       "\n",
       "    .dataframe thead th {\n",
       "        text-align: right;\n",
       "    }\n",
       "</style>\n",
       "<table border=\"1\" class=\"dataframe\">\n",
       "  <thead>\n",
       "    <tr style=\"text-align: right;\">\n",
       "      <th></th>\n",
       "      <th>id</th>\n",
       "      <th>age</th>\n",
       "      <th>gender</th>\n",
       "      <th>height</th>\n",
       "      <th>weight</th>\n",
       "      <th>ap_hi</th>\n",
       "      <th>ap_lo</th>\n",
       "      <th>cholesterol</th>\n",
       "      <th>gluc</th>\n",
       "      <th>smoke</th>\n",
       "      <th>alco</th>\n",
       "      <th>active</th>\n",
       "      <th>disease</th>\n",
       "    </tr>\n",
       "  </thead>\n",
       "  <tbody>\n",
       "    <tr>\n",
       "      <th>0</th>\n",
       "      <td>93074</td>\n",
       "      <td>21873</td>\n",
       "      <td>1</td>\n",
       "      <td>165</td>\n",
       "      <td>65.0</td>\n",
       "      <td>120</td>\n",
       "      <td>80</td>\n",
       "      <td>1</td>\n",
       "      <td>1</td>\n",
       "      <td>0</td>\n",
       "      <td>0</td>\n",
       "      <td>0</td>\n",
       "      <td>1</td>\n",
       "    </tr>\n",
       "    <tr>\n",
       "      <th>1</th>\n",
       "      <td>24860</td>\n",
       "      <td>23404</td>\n",
       "      <td>1</td>\n",
       "      <td>164</td>\n",
       "      <td>82.0</td>\n",
       "      <td>110</td>\n",
       "      <td>70</td>\n",
       "      <td>2</td>\n",
       "      <td>1</td>\n",
       "      <td>0</td>\n",
       "      <td>0</td>\n",
       "      <td>1</td>\n",
       "      <td>1</td>\n",
       "    </tr>\n",
       "    <tr>\n",
       "      <th>2</th>\n",
       "      <td>81297</td>\n",
       "      <td>19522</td>\n",
       "      <td>1</td>\n",
       "      <td>162</td>\n",
       "      <td>65.0</td>\n",
       "      <td>130</td>\n",
       "      <td>90</td>\n",
       "      <td>1</td>\n",
       "      <td>2</td>\n",
       "      <td>0</td>\n",
       "      <td>0</td>\n",
       "      <td>1</td>\n",
       "      <td>1</td>\n",
       "    </tr>\n",
       "    <tr>\n",
       "      <th>3</th>\n",
       "      <td>77837</td>\n",
       "      <td>22778</td>\n",
       "      <td>1</td>\n",
       "      <td>166</td>\n",
       "      <td>72.0</td>\n",
       "      <td>120</td>\n",
       "      <td>80</td>\n",
       "      <td>1</td>\n",
       "      <td>1</td>\n",
       "      <td>0</td>\n",
       "      <td>0</td>\n",
       "      <td>0</td>\n",
       "      <td>0</td>\n",
       "    </tr>\n",
       "    <tr>\n",
       "      <th>4</th>\n",
       "      <td>43998</td>\n",
       "      <td>16093</td>\n",
       "      <td>2</td>\n",
       "      <td>162</td>\n",
       "      <td>70.0</td>\n",
       "      <td>150</td>\n",
       "      <td>120</td>\n",
       "      <td>1</td>\n",
       "      <td>1</td>\n",
       "      <td>0</td>\n",
       "      <td>0</td>\n",
       "      <td>1</td>\n",
       "      <td>1</td>\n",
       "    </tr>\n",
       "  </tbody>\n",
       "</table>\n",
       "</div>"
      ],
      "text/plain": [
       "      id    age  gender  height  weight  ap_hi  ap_lo  cholesterol  gluc  \\\n",
       "0  93074  21873       1     165    65.0    120     80            1     1   \n",
       "1  24860  23404       1     164    82.0    110     70            2     1   \n",
       "2  81297  19522       1     162    65.0    130     90            1     2   \n",
       "3  77837  22778       1     166    72.0    120     80            1     1   \n",
       "4  43998  16093       2     162    70.0    150    120            1     1   \n",
       "\n",
       "   smoke  alco  active  disease  \n",
       "0      0     0       0        1  \n",
       "1      0     0       1        1  \n",
       "2      0     0       1        1  \n",
       "3      0     0       0        0  \n",
       "4      0     0       1        1  "
      ]
     },
     "execution_count": 2,
     "metadata": {},
     "output_type": "execute_result"
    }
   ],
   "source": [
    "hd=pd.read_csv(\"heart_disease.csv\")\n",
    "hd=hd.sample(frac=1)\n",
    "hd=hd.reset_index(drop=True)\n",
    "hd.head()"
   ]
  },
  {
   "cell_type": "code",
   "execution_count": 3,
   "id": "9d81aebd",
   "metadata": {},
   "outputs": [
    {
     "data": {
      "text/html": [
       "<div>\n",
       "<style scoped>\n",
       "    .dataframe tbody tr th:only-of-type {\n",
       "        vertical-align: middle;\n",
       "    }\n",
       "\n",
       "    .dataframe tbody tr th {\n",
       "        vertical-align: top;\n",
       "    }\n",
       "\n",
       "    .dataframe thead th {\n",
       "        text-align: right;\n",
       "    }\n",
       "</style>\n",
       "<table border=\"1\" class=\"dataframe\">\n",
       "  <thead>\n",
       "    <tr style=\"text-align: right;\">\n",
       "      <th></th>\n",
       "      <th>id</th>\n",
       "      <th>age</th>\n",
       "      <th>gender</th>\n",
       "      <th>height</th>\n",
       "      <th>weight</th>\n",
       "      <th>ap_hi</th>\n",
       "      <th>ap_lo</th>\n",
       "      <th>cholesterol</th>\n",
       "      <th>gluc</th>\n",
       "      <th>smoke</th>\n",
       "      <th>alco</th>\n",
       "      <th>active</th>\n",
       "      <th>disease</th>\n",
       "    </tr>\n",
       "  </thead>\n",
       "  <tbody>\n",
       "    <tr>\n",
       "      <th>0</th>\n",
       "      <td>93074</td>\n",
       "      <td>59</td>\n",
       "      <td>1</td>\n",
       "      <td>165</td>\n",
       "      <td>65.0</td>\n",
       "      <td>120</td>\n",
       "      <td>80</td>\n",
       "      <td>1</td>\n",
       "      <td>1</td>\n",
       "      <td>0</td>\n",
       "      <td>0</td>\n",
       "      <td>0</td>\n",
       "      <td>1</td>\n",
       "    </tr>\n",
       "    <tr>\n",
       "      <th>1</th>\n",
       "      <td>24860</td>\n",
       "      <td>64</td>\n",
       "      <td>1</td>\n",
       "      <td>164</td>\n",
       "      <td>82.0</td>\n",
       "      <td>110</td>\n",
       "      <td>70</td>\n",
       "      <td>2</td>\n",
       "      <td>1</td>\n",
       "      <td>0</td>\n",
       "      <td>0</td>\n",
       "      <td>1</td>\n",
       "      <td>1</td>\n",
       "    </tr>\n",
       "    <tr>\n",
       "      <th>2</th>\n",
       "      <td>81297</td>\n",
       "      <td>53</td>\n",
       "      <td>1</td>\n",
       "      <td>162</td>\n",
       "      <td>65.0</td>\n",
       "      <td>130</td>\n",
       "      <td>90</td>\n",
       "      <td>1</td>\n",
       "      <td>2</td>\n",
       "      <td>0</td>\n",
       "      <td>0</td>\n",
       "      <td>1</td>\n",
       "      <td>1</td>\n",
       "    </tr>\n",
       "    <tr>\n",
       "      <th>3</th>\n",
       "      <td>77837</td>\n",
       "      <td>62</td>\n",
       "      <td>1</td>\n",
       "      <td>166</td>\n",
       "      <td>72.0</td>\n",
       "      <td>120</td>\n",
       "      <td>80</td>\n",
       "      <td>1</td>\n",
       "      <td>1</td>\n",
       "      <td>0</td>\n",
       "      <td>0</td>\n",
       "      <td>0</td>\n",
       "      <td>0</td>\n",
       "    </tr>\n",
       "    <tr>\n",
       "      <th>4</th>\n",
       "      <td>43998</td>\n",
       "      <td>44</td>\n",
       "      <td>2</td>\n",
       "      <td>162</td>\n",
       "      <td>70.0</td>\n",
       "      <td>150</td>\n",
       "      <td>120</td>\n",
       "      <td>1</td>\n",
       "      <td>1</td>\n",
       "      <td>0</td>\n",
       "      <td>0</td>\n",
       "      <td>1</td>\n",
       "      <td>1</td>\n",
       "    </tr>\n",
       "  </tbody>\n",
       "</table>\n",
       "</div>"
      ],
      "text/plain": [
       "      id  age  gender  height  weight  ap_hi  ap_lo  cholesterol  gluc  smoke  \\\n",
       "0  93074   59       1     165    65.0    120     80            1     1      0   \n",
       "1  24860   64       1     164    82.0    110     70            2     1      0   \n",
       "2  81297   53       1     162    65.0    130     90            1     2      0   \n",
       "3  77837   62       1     166    72.0    120     80            1     1      0   \n",
       "4  43998   44       2     162    70.0    150    120            1     1      0   \n",
       "\n",
       "   alco  active  disease  \n",
       "0     0       0        1  \n",
       "1     0       1        1  \n",
       "2     0       1        1  \n",
       "3     0       0        0  \n",
       "4     0       1        1  "
      ]
     },
     "execution_count": 3,
     "metadata": {},
     "output_type": "execute_result"
    }
   ],
   "source": [
    "hd['age']=np.array(hd['age']/365,int)\n",
    "hd.head()"
   ]
  },
  {
   "cell_type": "code",
   "execution_count": 4,
   "id": "78b5737f",
   "metadata": {},
   "outputs": [
    {
     "data": {
      "text/plain": [
       "array([1, 2, 3], dtype=int64)"
      ]
     },
     "execution_count": 4,
     "metadata": {},
     "output_type": "execute_result"
    }
   ],
   "source": [
    "hd.cholesterol.unique()"
   ]
  },
  {
   "cell_type": "code",
   "execution_count": 5,
   "id": "604274fe",
   "metadata": {},
   "outputs": [
    {
     "data": {
      "text/html": [
       "<div>\n",
       "<style scoped>\n",
       "    .dataframe tbody tr th:only-of-type {\n",
       "        vertical-align: middle;\n",
       "    }\n",
       "\n",
       "    .dataframe tbody tr th {\n",
       "        vertical-align: top;\n",
       "    }\n",
       "\n",
       "    .dataframe thead th {\n",
       "        text-align: right;\n",
       "    }\n",
       "</style>\n",
       "<table border=\"1\" class=\"dataframe\">\n",
       "  <thead>\n",
       "    <tr style=\"text-align: right;\">\n",
       "      <th></th>\n",
       "      <th>id</th>\n",
       "      <th>age</th>\n",
       "      <th>gender</th>\n",
       "      <th>height</th>\n",
       "      <th>weight</th>\n",
       "      <th>ap_hi</th>\n",
       "      <th>ap_lo</th>\n",
       "      <th>cholesterol</th>\n",
       "      <th>gluc</th>\n",
       "      <th>smoke</th>\n",
       "      <th>alco</th>\n",
       "      <th>active</th>\n",
       "      <th>disease</th>\n",
       "    </tr>\n",
       "  </thead>\n",
       "  <tbody>\n",
       "    <tr>\n",
       "      <th>0</th>\n",
       "      <td>93074</td>\n",
       "      <td>59</td>\n",
       "      <td>Female</td>\n",
       "      <td>165</td>\n",
       "      <td>65.0</td>\n",
       "      <td>120</td>\n",
       "      <td>80</td>\n",
       "      <td>Low</td>\n",
       "      <td>1</td>\n",
       "      <td>Non-Smoker</td>\n",
       "      <td>Non-Alcoholic</td>\n",
       "      <td>0</td>\n",
       "      <td>Healthy</td>\n",
       "    </tr>\n",
       "    <tr>\n",
       "      <th>1</th>\n",
       "      <td>24860</td>\n",
       "      <td>64</td>\n",
       "      <td>Female</td>\n",
       "      <td>164</td>\n",
       "      <td>82.0</td>\n",
       "      <td>110</td>\n",
       "      <td>70</td>\n",
       "      <td>Medium</td>\n",
       "      <td>1</td>\n",
       "      <td>Non-Smoker</td>\n",
       "      <td>Non-Alcoholic</td>\n",
       "      <td>1</td>\n",
       "      <td>Healthy</td>\n",
       "    </tr>\n",
       "    <tr>\n",
       "      <th>2</th>\n",
       "      <td>81297</td>\n",
       "      <td>53</td>\n",
       "      <td>Female</td>\n",
       "      <td>162</td>\n",
       "      <td>65.0</td>\n",
       "      <td>130</td>\n",
       "      <td>90</td>\n",
       "      <td>Low</td>\n",
       "      <td>2</td>\n",
       "      <td>Non-Smoker</td>\n",
       "      <td>Non-Alcoholic</td>\n",
       "      <td>1</td>\n",
       "      <td>Healthy</td>\n",
       "    </tr>\n",
       "    <tr>\n",
       "      <th>3</th>\n",
       "      <td>77837</td>\n",
       "      <td>62</td>\n",
       "      <td>Female</td>\n",
       "      <td>166</td>\n",
       "      <td>72.0</td>\n",
       "      <td>120</td>\n",
       "      <td>80</td>\n",
       "      <td>Low</td>\n",
       "      <td>1</td>\n",
       "      <td>Non-Smoker</td>\n",
       "      <td>Non-Alcoholic</td>\n",
       "      <td>0</td>\n",
       "      <td>Heart Disease</td>\n",
       "    </tr>\n",
       "    <tr>\n",
       "      <th>4</th>\n",
       "      <td>43998</td>\n",
       "      <td>44</td>\n",
       "      <td>Male</td>\n",
       "      <td>162</td>\n",
       "      <td>70.0</td>\n",
       "      <td>150</td>\n",
       "      <td>120</td>\n",
       "      <td>Low</td>\n",
       "      <td>1</td>\n",
       "      <td>Non-Smoker</td>\n",
       "      <td>Non-Alcoholic</td>\n",
       "      <td>1</td>\n",
       "      <td>Healthy</td>\n",
       "    </tr>\n",
       "  </tbody>\n",
       "</table>\n",
       "</div>"
      ],
      "text/plain": [
       "      id  age  gender  height  weight  ap_hi  ap_lo cholesterol  gluc  \\\n",
       "0  93074   59  Female     165    65.0    120     80         Low     1   \n",
       "1  24860   64  Female     164    82.0    110     70      Medium     1   \n",
       "2  81297   53  Female     162    65.0    130     90         Low     2   \n",
       "3  77837   62  Female     166    72.0    120     80         Low     1   \n",
       "4  43998   44    Male     162    70.0    150    120         Low     1   \n",
       "\n",
       "        smoke           alco  active        disease  \n",
       "0  Non-Smoker  Non-Alcoholic       0        Healthy  \n",
       "1  Non-Smoker  Non-Alcoholic       1        Healthy  \n",
       "2  Non-Smoker  Non-Alcoholic       1        Healthy  \n",
       "3  Non-Smoker  Non-Alcoholic       0  Heart Disease  \n",
       "4  Non-Smoker  Non-Alcoholic       1        Healthy  "
      ]
     },
     "execution_count": 5,
     "metadata": {},
     "output_type": "execute_result"
    }
   ],
   "source": [
    "hd['gender']=hd['gender'].replace(hd['gender'].unique(),['Female','Male'])\n",
    "hd['smoke']=hd['smoke'].replace(hd['smoke'].unique(),['Non-Smoker','Smoker'])\n",
    "hd['alco']=hd['alco'].replace(hd['alco'].unique(),['Non-Alcoholic','Alcoholic'])\n",
    "hd['cholesterol']=hd['cholesterol'].replace(hd['cholesterol'].unique(),['Low','Medium','High'])\n",
    "hd['disease']=hd['disease'].replace(hd['disease'].unique(),['Healthy','Heart Disease'])\n",
    "hd.head()"
   ]
  },
  {
   "cell_type": "code",
   "execution_count": 6,
   "id": "3855e7b8",
   "metadata": {},
   "outputs": [],
   "source": [
    "def barchart(f1,f2,w,h):    # fudntion to print the barchart\n",
    "    \"\"\"Visualize the barchart by taking the variables from user\n",
    "       Variables: Feature-1, Feature-2, width of plot, height of plot\"\"\"\n",
    "    pd.crosstab([hd[f2],hd[f1]],hd['disease']).plot(kind='bar',figsize=(w,h),color=[\"#FF1493\",\"#4B0082\"])\n",
    "    plt.title(\"Heart Disease by {} & {}\".format(f1.capitalize(),f2.capitalize()),fontsize=18,color=\"#4B0082\")\n",
    "    plt.xlabel(\"{}  & {}\".format(f1.capitalize(),f2.capitalize()),fontsize=15,color=\"#4B0082\")\n",
    "    plt.ylabel(\"Count\",fontsize=15,color=\"#4B0082\")\n",
    "    plt.grid()\n",
    "    plt.show()"
   ]
  },
  {
   "cell_type": "code",
   "execution_count": 7,
   "id": "93899018",
   "metadata": {},
   "outputs": [],
   "source": [
    "def histo(f1):    # fudntion to plot the histoigram of the cintinuos feature\n",
    "    \"\"\"Visualize the histogram of the cintinuous data\n",
    "    If the featyre will not be continuous and labelled, this will print the error message\"\"\"\n",
    "    try:      # it will check if the feature is continuous, it will not allow the categoricakl featues and prohobiot the error\n",
    "        h1=hd[hd['disease']==\"Healthy\"]\n",
    "        h2=hd[hd['disease']==\"Heart Disease\"]\n",
    "        plt.figure(figsize=(6,4))\n",
    "        plt.title(\"{} Distribution of Healthy People\".format(f1.capitalize()),fontsize=18,color=\"#4B0082\")\n",
    "        sns.distplot(h1[f1],color=\"#FF1493\")\n",
    "        plt.xlabel(\"{}\".format(f1.capitalize()),fontsize=15,color=\"#4B0082\")\n",
    "        plt.ylabel(\"Count\",fontsize=15,color=\"#4B0082\")\n",
    "        plt.grid()\n",
    "        plt.show()\n",
    "        plt.figure(figsize=(6,4))\n",
    "        plt.title(\"{} Distribution of Heart Disease People\".format(f1.capitalize()),fontsize=16,color=\"#4B0082\")\n",
    "        sns.distplot(h2[f1],color=\"#4B0082\")\n",
    "        plt.xlabel(\"{}\".format(f1.capitalize()),fontsize=15,color=\"#4B0082\")\n",
    "        plt.ylabel(\"Count\",fontsize=15,color=\"#4B0082\")\n",
    "        plt.grid()\n",
    "        plt.show()\n",
    "    except:\n",
    "        print(\"Wrong Selection of Feature\")\n",
    "        print(\"Feature is Categorical not Continuous\")"
   ]
  },
  {
   "cell_type": "code",
   "execution_count": 8,
   "id": "b56b87b3",
   "metadata": {},
   "outputs": [],
   "source": [
    "def piechart(f1,sz):    # function to print pie chart\n",
    "    \"\"\"Pie chart will be visulized by taking features from user\n",
    "       Features: attribute name, size of the pie chart (sz,sz)\"\"\"\n",
    "    h1=hd[hd['disease']==\"Healthy\"]\n",
    "    h2=hd[hd['disease']==\"Heart Disease\"]\n",
    "    cat=h1[f1].value_counts().index.tolist()\n",
    "    val=h1[f1].value_counts().tolist()\n",
    "    plt.figure(figsize=(sz,sz))\n",
    "    plt.pie(val,labels=cat,autopct='%1.2f%%',colors=[\"#FF1493\",\"#FF6347\"])\n",
    "    plt.title(\"Healthy Person\",fontsize=18,color=\"#FF1493\")\n",
    "    plt.show()\n",
    "    cat=h2[f1].value_counts().index.tolist()\n",
    "    val=h2[f1].value_counts().tolist()\n",
    "    plt.figure(figsize=(sz,sz))\n",
    "    plt.pie(val,labels=cat,autopct='%1.2f%%',colors=[\"#FF1493\",\"#FF6347\"])\n",
    "    plt.title(\"Heart Diseased Person\",fontsize=18,color=\"#FF1493\")\n",
    "    plt.show()"
   ]
  },
  {
   "cell_type": "code",
   "execution_count": 9,
   "id": "629f71f2",
   "metadata": {},
   "outputs": [
    {
     "data": {
      "image/png": "[encoded data removed]",
      "text/plain": [
       "<Figure size 432x288 with 1 Axes>"
      ]
     },
     "metadata": {
      "needs_background": "light"
     },
     "output_type": "display_data"
    },
    {
     "data": {
      "image/png": "[encoded data removed]",
      "text/plain": [
       "<Figure size 432x288 with 1 Axes>"
      ]
     },
     "metadata": {
      "needs_background": "light"
     },
     "output_type": "display_data"
    }
   ],
   "source": [
    "histo('age')"
   ]
  },
  {
   "cell_type": "code",
   "execution_count": 10,
   "id": "3255babd",
   "metadata": {},
   "outputs": [
    {
     "data": {
      "image/png": "[encoded data removed]",
      "text/plain": [
       "<Figure size 504x360 with 1 Axes>"
      ]
     },
     "metadata": {
      "needs_background": "light"
     },
     "output_type": "display_data"
    }
   ],
   "source": [
    "barchart(\"gender\",\"cholesterol\",7,5)"
   ]
  },
  {
   "cell_type": "code",
   "execution_count": 11,
   "id": "d488fc51",
   "metadata": {},
   "outputs": [
    {
     "data": {
      "image/png": "[encoded data removed]",
      "text/plain": [
       "<Figure size 360x360 with 1 Axes>"
      ]
     },
     "metadata": {},
     "output_type": "display_data"
    },
    {
     "data": {
      "image/png": "[encoded data removed]",
      "text/plain": [
       "<Figure size 360x360 with 1 Axes>"
      ]
     },
     "metadata": {},
     "output_type": "display_data"
    }
   ],
   "source": [
    "piechart('smoke',5)"
   ]
  },
  {
   "cell_type": "markdown",
   "id": "f0261b4e",
   "metadata": {},
   "source": [
    "------------------------------------------------------------------------------------------- END ----------------------------------------------------------------------------------------------------------"
   ]
  },
  {
   "cell_type": "code",
   "execution_count": null,
   "id": "536ed6c0",
   "metadata": {},
   "outputs": [],
   "source": []
  },
  {
   "cell_type": "code",
   "execution_count": null,
   "id": "7dfb8f78",
   "metadata": {},
   "outputs": [],
   "source": []
  }
 ],
 "metadata": {
  "kernelspec": {
   "display_name": "Python 3",
   "language": "python",
   "name": "python3"
  },
  "language_info": {
   "codemirror_mode": {
    "name": "ipython",
    "version": 3
   },
   "file_extension": ".py",
   "mimetype": "text/x-python",
   "name": "python",
   "nbconvert_exporter": "python",
   "pygments_lexer": "ipython3",
   "version": "3.8.8"
  }
 },
 "nbformat": 4,
 "nbformat_minor": 5
}
